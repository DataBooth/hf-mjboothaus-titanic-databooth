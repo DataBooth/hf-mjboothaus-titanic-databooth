{
 "cells": [
  {
   "cell_type": "markdown",
   "id": "bf6f2560",
   "metadata": {},
   "source": [
    "# Titanic Data Analysis\n",
    "\n",
    "Demo - `HuggingDuckDBConnection` class usage"
   ]
  },
  {
   "cell_type": "code",
   "execution_count": null,
   "id": "039d043a",
   "metadata": {},
   "outputs": [],
   "source": [
    "from huggingduck import HuggingDuckDBConnection"
   ]
  },
  {
   "cell_type": "markdown",
   "id": "01078660",
   "metadata": {},
   "source": [
    "# Initialise connection"
   ]
  },
  {
   "cell_type": "code",
   "execution_count": null,
   "id": "3da04ecf",
   "metadata": {},
   "outputs": [],
   "source": [
    "conn = HuggingDuckDBConnection(\"mjboothaus/titanic-databooth\", file_filters=\"csv\", db_path=\"titanic_jupyter.duckdb\")\n",
    "\n",
    "table_names = conn.get_table_names()\n",
    "\n",
    "print(f\"\\nAvailable Tables: {table_names}\")"
   ]
  },
  {
   "cell_type": "code",
   "execution_count": null,
   "id": "dc943575",
   "metadata": {},
   "outputs": [],
   "source": [
    "titanic_all_df = conn.sql_df(f\"SELECT * FROM {table_names[1]}\")"
   ]
  },
  {
   "cell_type": "code",
   "execution_count": null,
   "id": "9d2b7d5a",
   "metadata": {},
   "outputs": [],
   "source": [
    "len(titanic_all_df)"
   ]
  },
  {
   "cell_type": "code",
   "execution_count": null,
   "id": "d964be5a",
   "metadata": {},
   "outputs": [],
   "source": [
    "conn.sql_df(\"SELECT * FROM titanic3 WHERE age > 70 ORDER BY age DESC\")"
   ]
  },
  {
   "cell_type": "code",
   "execution_count": null,
   "id": "36929d33",
   "metadata": {},
   "outputs": [],
   "source": [
    "conn.schema_name"
   ]
  },
  {
   "cell_type": "code",
   "execution_count": null,
   "id": "e69758ba",
   "metadata": {},
   "outputs": [],
   "source": [
    "conn.list_files_in_huggingface_repo(conn.repo_id)"
   ]
  },
  {
   "cell_type": "code",
   "execution_count": null,
   "id": "1c8959da",
   "metadata": {},
   "outputs": [],
   "source": [
    "conn.repo_id"
   ]
  },
  {
   "cell_type": "code",
   "execution_count": null,
   "id": "31b92b00",
   "metadata": {},
   "outputs": [],
   "source": []
  }
 ],
 "metadata": {
  "kernelspec": {
   "display_name": ".venv",
   "language": "python",
   "name": "python3"
  },
  "language_info": {
   "codemirror_mode": {
    "name": "ipython",
    "version": 3
   },
   "file_extension": ".py",
   "mimetype": "text/x-python",
   "name": "python",
   "nbconvert_exporter": "python",
   "pygments_lexer": "ipython3",
   "version": "3.13.3"
  }
 },
 "nbformat": 4,
 "nbformat_minor": 5
}
