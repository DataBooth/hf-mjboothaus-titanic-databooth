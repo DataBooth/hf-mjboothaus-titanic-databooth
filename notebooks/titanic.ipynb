{
 "cells": [
  {
   "cell_type": "markdown",
   "id": "bf6f2560",
   "metadata": {},
   "source": [
    "\n",
    "# Titanic Data Analysis (Jupyter / Marimo)\n",
    "\n",
    "Demo - `HuggDuckDBConnection` class usage"
   ]
  },
  {
   "cell_type": "code",
   "execution_count": null,
   "id": "039d043a",
   "metadata": {},
   "outputs": [],
   "source": [
    "import marimo as mo\n",
    "from huggingduck import HuggDuckDBConnection"
   ]
  },
  {
   "cell_type": "markdown",
   "id": "01078660",
   "metadata": {},
   "source": [
    "# Initialise connection"
   ]
  },
  {
   "cell_type": "code",
   "execution_count": null,
   "id": "3da04ecf",
   "metadata": {},
   "outputs": [],
   "source": [
    "try:\n",
    "    conn = HuggDuckDBConnection(\"mjboothaus/titanic-databooth\")\n",
    "except:\n",
    "    conn = None\n",
    "\n",
    "if conn:\n",
    "    mo.md(f\"## Available Tables: {', '.join(conn.tables)}\")"
   ]
  },
  {
   "cell_type": "code",
   "execution_count": null,
   "id": "47538517",
   "metadata": {},
   "outputs": [],
   "source": [
    "# Table selector\n",
    "\n",
    "table = mo.ui.select(conn.tables, label=\"Choose dataset version\")\n",
    "table"
   ]
  },
  {
   "cell_type": "code",
   "execution_count": null,
   "id": "dc943575",
   "metadata": {},
   "outputs": [],
   "source": [
    "# Data preview\n",
    "\n",
    "preview = conn.preview(table.value)\n",
    "mo.ui.table(preview)"
   ]
  },
  {
   "cell_type": "code",
   "execution_count": null,
   "id": "36929d33",
   "metadata": {},
   "outputs": [],
   "source": [
    "# Schema inspection\n",
    "\n",
    "mo.md(f\"### {table.value} Schema\")\n",
    "mo.ui.json(conn.get_schema(table.value))"
   ]
  },
  {
   "cell_type": "code",
   "execution_count": null,
   "id": "6e5ff94f",
   "metadata": {},
   "outputs": [],
   "source": [
    "# Age discrepancy analysis\n",
    "\n",
    "mo.md(\"## Age Discrepancy Report\")\n",
    "\n",
    "results = conn.query(f\"\"\"\n",
    "    SELECT \n",
    "        original.passenger_id,\n",
    "        original.age AS reported_age,\n",
    "        {table.value}.age AS corrected_age,\n",
    "        ABS(original.age - {table.value}.age) AS difference\n",
    "    FROM original\n",
    "    JOIN {table.value} ON original.passenger_id = {table.value}.passenger_id\n",
    "    WHERE ABS(original.age - {table.value}.age) > 2\n",
    "    ORDER BY difference DESC\n",
    "\"\"\")\n",
    "mo.ui.table(results)\n"
   ]
  }
 ],
 "metadata": {
  "kernelspec": {
   "display_name": ".venv",
   "language": "python",
   "name": "python3"
  },
  "language_info": {
   "codemirror_mode": {
    "name": "ipython",
    "version": 3
   },
   "file_extension": ".py",
   "mimetype": "text/x-python",
   "name": "python",
   "nbconvert_exporter": "python",
   "pygments_lexer": "ipython3",
   "version": "3.13.3"
  }
 },
 "nbformat": 4,
 "nbformat_minor": 5
}
