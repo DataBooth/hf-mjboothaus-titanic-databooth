{
 "cells": [
  {
   "cell_type": "markdown",
   "id": "bf6f2560",
   "metadata": {},
   "source": [
    "\n",
    "# Titanic Data Analysis (Jupyter / Marimo)\n",
    "\n",
    "Demo - `HuggDuckDBConnection` class usage"
   ]
  },
  {
   "cell_type": "code",
   "execution_count": null,
   "id": "039d043a",
   "metadata": {},
   "outputs": [],
   "source": [
    "from huggingduck import HuggDuckDBConnection"
   ]
  },
  {
   "cell_type": "markdown",
   "id": "01078660",
   "metadata": {},
   "source": [
    "# Initialise connection"
   ]
  },
  {
   "cell_type": "code",
   "execution_count": null,
   "id": "3da04ecf",
   "metadata": {},
   "outputs": [],
   "source": [
    "conn = HuggDuckDBConnection(\"mjboothaus/titanic-databooth\")\n",
    "\n",
    "print(\"Available Tables: {', '.join(conn.tables)}\")"
   ]
  },
  {
   "cell_type": "code",
   "execution_count": null,
   "id": "47538517",
   "metadata": {},
   "outputs": [],
   "source": [
    "conn.tables[0]"
   ]
  },
  {
   "cell_type": "code",
   "execution_count": null,
   "id": "dc943575",
   "metadata": {},
   "outputs": [],
   "source": [
    "conn.sql(f\"SELECT * FROM {conn.tables[0]}\")"
   ]
  },
  {
   "cell_type": "code",
   "execution_count": null,
   "id": "36929d33",
   "metadata": {},
   "outputs": [],
   "source": [
    "conn.get_schema(conn.tables[0])"
   ]
  }
 ],
 "metadata": {
  "kernelspec": {
   "display_name": ".venv",
   "language": "python",
   "name": "python3"
  },
  "language_info": {
   "codemirror_mode": {
    "name": "ipython",
    "version": 3
   },
   "file_extension": ".py",
   "mimetype": "text/x-python",
   "name": "python",
   "nbconvert_exporter": "python",
   "pygments_lexer": "ipython3",
   "version": "3.13.3"
  }
 },
 "nbformat": 4,
 "nbformat_minor": 5
}
